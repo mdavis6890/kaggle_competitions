{
 "cells": [
  {
   "cell_type": "code",
   "execution_count": null,
   "metadata": {},
   "outputs": [],
   "source": [
    "# Copyright 2020 Google LLC\n",
    "#\n",
    "# Licensed under the Apache License, Version 2.0 (the \"License\");\n",
    "# you may not use this file except in compliance with the License.\n",
    "# You may obtain a copy of the License at\n",
    "#\n",
    "#     https://www.apache.org/licenses/LICENSE-2.0\n",
    "#\n",
    "# Unless required by applicable law or agreed to in writing, software\n",
    "# distributed under the License is distributed on an \"AS IS\" BASIS,\n",
    "# WITHOUT WARRANTIES OR CONDITIONS OF ANY KIND, either express or implied.\n",
    "# See the License for the specific language governing permissions and\n",
    "# limitations under the License."
   ]
  },
  {
   "cell_type": "markdown",
   "metadata": {},
   "source": [
    "# Fraud Detection Workshops Starter Notebook\n",
    "## Predicting Fraudulent Transactions"
   ]
  },
  {
   "cell_type": "markdown",
   "metadata": {},
   "source": [
    "<table align=\"left\">\n",
    "  <td>\n",
    "    <a href=\"https://console.cloud.google.com/vertex-ai/notebooks/deploy-notebook?name=FinTech%3A%20Credit%20Risk&download_url=https%3A%2F%2Fgist.githubusercontent.com%2Foliviervg1%2Fa8f94d673be2aa7c6cffe384a582c9cc%2Fraw%2Fcredit_risk_bqml_python.ipynb&url=https%3A%2F%2Fgist.github.com%2Foliviervg1%2Fa8f94d673be2aa7c6cffe384a582c9cc\">\n",
    "      <img src=\"https://cloud.google.com/images/products/ai/ai-solutions-icon.svg\" alt=\"Vertex AI Notebooks\">Run on Vertex AI Notebooks</a>\n",
    "  </td>\n",
    "</table>"
   ]
  },
  {
   "cell_type": "markdown",
   "metadata": {},
   "source": [
    "- [Background](#background)\n",
    "- [Setup BigQuery in Jupyter](#setup)\n",
    "- [BigQuery ML basics](#basics)\n",
    "  - [Select BigQuery data from Python](#select)\n",
    "  - [Train a BigQuery ML model](#train)\n",
    "  - [Check models currently being trained on BigQuery](#currentlytraining)\n",
    "  - [Check if a model has finished training](#finishedtraining)\n",
    "  - [Evaluate a BigQuery ML model](#evaluate)\n",
    "  - [Compare multiple models](#compare)\n",
    "  - [ML.FEATURE_INFO to check input feature information](#featinfo)\n",
    "  - [Make predictions using BigQuery ML](#predictions)\n",
    "  - [Export predictions as a CSV file](#exportcsv)\n",
    "- [Feature engineering](#feateng)\n",
    "  - [EXTRACT: Extract dates and time](#extractdates)\n",
    "  - [REGEXP_EXTRACT_ALL: Extract words from a STRING column](#extractwords)\n",
    "  - [ML.QUANTILE_BUCKETIZE: Bucketize your numeric feature into bins](#bucketize)\n",
    "  - [ML.POLYNOMIAL_EXPAND: Combine numeric features](#polynomialexpand)\n",
    "  - [ML.FEATURE_CROSS: Combine categorical features](#featurecross)\n",
    "- [Feature selection](#featselection)\n",
    "  - [ML.FEATURE_IMPORTANCE for Boosted Tree models](#featimportance)\n",
    "- [Submit Your Results!](#submit)"
   ]
  },
  {
   "cell_type": "markdown",
   "metadata": {},
   "source": [
    "### Background <a id=\"background\"></a>"
   ]
  },
  {
   "cell_type": "markdown",
   "metadata": {},
   "source": [
    "In this lab you will be attempting to detect fraudulent transactions using a synthetic dataset. The dataset includes 50k customers and 5k payment terminals. You will be given ~3.4M labeled transactions (fraud 0|1) for training and ~70k unlabeled transactions for evaluation. The locations of the terminals and cutomers are within the same 100x100 cartesian grid.\n",
    "\n",
    "You will be provided the following four tables in the SOURCE_DATASET:\n",
    "- customers\n",
    "  - 50,000 customers along with their residence location on a 100x100 grid\n",
    "    - CUSTOMER_ID - STRING - Unique identifier of customer\n",
    "    - x_customer_id - FLOAT - x-coordinate of customer in (0,100)\n",
    "    - y_customer_id - FLOAT - y-coordinate of customer in (0,100)\n",
    "- terminals\n",
    "  - 5,000 terminals along with their locations on a 100x100 grid\n",
    "    - TERMINAL_ID - STRING - Unique identifier of terminal\n",
    "    - x_terminal_id - FLOAT - x-coordinate of terminal in (0,100)\n",
    "    - y_terminal_id - FLOAT - y-coordinate of terminal in (0,100)\n",
    "- train\n",
    "  - ~3.4M labeled transactions from __Jan-Nov__ including the customer ID and terminal ID, time of the transaction, amount and fraud/not-fraud.\n",
    "    - TX_ID - Unique ID of transaction\n",
    "    - TX_TS - TIMESTAMP - Timestamp of transaction\n",
    "    - CUSTOMER_ID - STRING - Unique identifier of customer\n",
    "    - TERMINAL_ID - STRING - Unique identifier of terminal\n",
    "    - TX_AMOUNT - NUMERIC - Dollar amount of transaction\n",
    "    - TX_FRAUD - INT - __LABEL__ - 1 if fraudulent, 0 if not.\n",
    "- test\n",
    "  - ~70k unlabeled transactions from __Dec 1st-7th__\n",
    "    - TX_ID - Unique ID of transaction\n",
    "    - TX_TS - TIMESTAMP - Timestamp of transaction\n",
    "    - CUSTOMER_ID - STRING - Unique identifier of customer\n",
    "    - TERMINAL_ID - STRING - Unique identifier of terminal\n",
    "    - TX_AMOUNT - NUMERIC - Dollar amount of transaction"
   ]
  },
  {
   "cell_type": "markdown",
   "metadata": {},
   "source": [
    "### High Level Data Diagram"
   ]
  },
  {
   "cell_type": "markdown",
   "metadata": {},
   "source": [
    "<img src=\"https://storage.googleapis.com/kaggleworkshops-fraud-detection-public/Kaggle%20Data.svg\" width=1000px>"
   ]
  },
  {
   "cell_type": "markdown",
   "metadata": {},
   "source": [
    "<a id=\"setup\"></a>"
   ]
  },
  {
   "cell_type": "markdown",
   "metadata": {},
   "source": [
    "### Setup BigQuery in Jupyter <a class=\"anchor\" id=\"setup\"></a>"
   ]
  },
  {
   "cell_type": "markdown",
   "metadata": {},
   "source": [
    "#### Install some libraries"
   ]
  },
  {
   "cell_type": "markdown",
   "metadata": {},
   "source": [
    "__*IMPORTANT:*__ After running the following cell, your notebook kernel will restart automatically. After you run it, please comment the code with \"#\" on each line to avoid restarting your kernel accidentally after that."
   ]
  },
  {
   "cell_type": "code",
   "execution_count": null,
   "metadata": {},
   "outputs": [],
   "source": [
    "!pip install google-cloud-bigquery google-cloud-bigquery-storage\n",
    "import IPython\n",
    "\n",
    "IPython.Application.instance().kernel.do_shutdown(True) #automatically restarts kernel"
   ]
  },
  {
   "cell_type": "markdown",
   "metadata": {},
   "source": [
    "#### Set parameters"
   ]
  },
  {
   "cell_type": "markdown",
   "metadata": {},
   "source": [
    "For this hackathon you will pull the data from source project `kaggleworkshops`. As you work you will save your data into your team project, in a new dataset that you will create. We will be storing our data in __us-central1__"
   ]
  },
  {
   "cell_type": "code",
   "execution_count": 85,
   "metadata": {
    "tags": []
   },
   "outputs": [
    {
     "name": "stdout",
     "output_type": "stream",
     "text": [
      "['euphoric-quanta-238417']\n"
     ]
    }
   ],
   "source": [
    "#Check current project\n",
    "GCP_PROJECTS = !gcloud config get-value project\n",
    "print(GCP_PROJECTS)"
   ]
  },
  {
   "cell_type": "markdown",
   "metadata": {},
   "source": [
    "__*NOTE*__: Change below DATASET_ID to a different name for yourself, if you want to work in your own dataset separate from your team's. You can also create multiple datasets if you want, just make sure you are using the correct dataset for whatever query or work you are doing. You may have to manipulate variables in below cells accordingly. And make sure to avoid conflicts with other team members who might be using the same dataset."
   ]
  },
  {
   "cell_type": "code",
   "execution_count": 86,
   "metadata": {},
   "outputs": [
    {
     "name": "stdout",
     "output_type": "stream",
     "text": [
      "Source Project: kaggleworkshops\n",
      "Source Dataset: fraud_detection\n",
      "My Project: euphoric-quanta-238417\n",
      "My Dataset: kaggle_team\n",
      "Dataset Location: us-central1\n"
     ]
    }
   ],
   "source": [
    "PROJECT_ID = GCP_PROJECTS[0]\n",
    "DATASET_ID = \"kaggle_team\"\n",
    "LOCATION = \"us-central1\" # Please don't change this location.\n",
    "#This is where you will get your data from for the lab\n",
    "SOURCE_PROJECT = \"kaggleworkshops\"\n",
    "SOURCE_DATASET = \"fraud_detection\"\n",
    "\n",
    "print(\"Source Project: \"+SOURCE_PROJECT)\n",
    "print(\"Source Dataset: \"+SOURCE_DATASET)\n",
    "print(\"My Project: \"+PROJECT_ID)\n",
    "print(\"My Dataset: \"+DATASET_ID)\n",
    "print(\"Dataset Location: \"+LOCATION)"
   ]
  },
  {
   "cell_type": "markdown",
   "metadata": {},
   "source": [
    "#### Create dataset if it does not yet exist"
   ]
  },
  {
   "cell_type": "code",
   "execution_count": 87,
   "metadata": {},
   "outputs": [
    {
     "name": "stdout",
     "output_type": "stream",
     "text": [
      "BigQuery error in mk operation: Dataset 'euphoric-quanta-238417:kaggle_team'\n",
      "already exists.\n"
     ]
    }
   ],
   "source": [
    "!bq mk --location=$LOCATION $DATASET_ID"
   ]
  },
  {
   "cell_type": "markdown",
   "metadata": {},
   "source": [
    "#### Required libraries"
   ]
  },
  {
   "cell_type": "code",
   "execution_count": 88,
   "metadata": {},
   "outputs": [],
   "source": [
    "from google.cloud import bigquery\n",
    "from google.api_core.exceptions import BadRequest\n",
    "import time\n",
    "import pandas as pd\n",
    "pd.set_option('display.max_columns', None)\n",
    "pd.set_option('display.max_colwidth', 200)\n",
    "\n",
    "# Construct a BigQuery client object.\n",
    "client = bigquery.Client()"
   ]
  },
  {
   "cell_type": "markdown",
   "metadata": {},
   "source": [
    "Define a function which runs a given sql statement in BQ and returns a datafram with the results. This function will be used throughout the lab."
   ]
  },
  {
   "cell_type": "code",
   "execution_count": 89,
   "metadata": {},
   "outputs": [],
   "source": [
    "def bq_query(sql, async_flag=False):\n",
    "    \"\"\"\n",
    "    If `async_flag` set to False (default), \n",
    "        returns the query results for `sql` as a Pandas DataFrame, \n",
    "    Else, submits query asynchronously and returns nothing.\n",
    "    \"\"\"\n",
    "    \n",
    "    # Try dry run before executing query to catch any errors\n",
    "    try:\n",
    "        job_config = bigquery.QueryJobConfig(dry_run=True, use_query_cache=False)\n",
    "        dry_run_job = client.query(sql, job_config=job_config)\n",
    "    except BadRequest as err:\n",
    "        print(err)\n",
    "        return\n",
    "        \n",
    "    job_config = bigquery.QueryJobConfig()\n",
    "    df = client.query(sql, job_config=job_config)\n",
    "    \n",
    "    if async_flag:\n",
    "        return f\"Query sent asynchronously for job id: {df.job_id}\"\n",
    "    else:\n",
    "        df = df.result() #wait for query to finish running\n",
    "        return df.to_dataframe()"
   ]
  },
  {
   "cell_type": "markdown",
   "metadata": {},
   "source": [
    "## BigQuery ML basics <a id=\"basics\"></a>"
   ]
  },
  {
   "cell_type": "markdown",
   "metadata": {},
   "source": [
    "#### Examine given data <a id=\"select\"></a>"
   ]
  },
  {
   "cell_type": "code",
   "execution_count": 90,
   "metadata": {},
   "outputs": [
    {
     "data": {
      "text/html": [
       "<div>\n",
       "<style scoped>\n",
       "    .dataframe tbody tr th:only-of-type {\n",
       "        vertical-align: middle;\n",
       "    }\n",
       "\n",
       "    .dataframe tbody tr th {\n",
       "        vertical-align: top;\n",
       "    }\n",
       "\n",
       "    .dataframe thead th {\n",
       "        text-align: right;\n",
       "    }\n",
       "</style>\n",
       "<table border=\"1\" class=\"dataframe\">\n",
       "  <thead>\n",
       "    <tr style=\"text-align: right;\">\n",
       "      <th></th>\n",
       "      <th>CUSTOMER_ID</th>\n",
       "      <th>x_customer_id</th>\n",
       "      <th>y_customer_id</th>\n",
       "    </tr>\n",
       "  </thead>\n",
       "  <tbody>\n",
       "    <tr>\n",
       "      <th>0</th>\n",
       "      <td>9057108040646743</td>\n",
       "      <td>93.421400</td>\n",
       "      <td>61.396596</td>\n",
       "    </tr>\n",
       "    <tr>\n",
       "      <th>1</th>\n",
       "      <td>3373084462462294</td>\n",
       "      <td>94.737059</td>\n",
       "      <td>73.085581</td>\n",
       "    </tr>\n",
       "    <tr>\n",
       "      <th>2</th>\n",
       "      <td>9620005159501228</td>\n",
       "      <td>59.102690</td>\n",
       "      <td>65.917647</td>\n",
       "    </tr>\n",
       "    <tr>\n",
       "      <th>3</th>\n",
       "      <td>8355681376485783</td>\n",
       "      <td>38.033518</td>\n",
       "      <td>14.780868</td>\n",
       "    </tr>\n",
       "    <tr>\n",
       "      <th>4</th>\n",
       "      <td>6300457835724066</td>\n",
       "      <td>4.680635</td>\n",
       "      <td>97.073144</td>\n",
       "    </tr>\n",
       "  </tbody>\n",
       "</table>\n",
       "</div>"
      ],
      "text/plain": [
       "        CUSTOMER_ID  x_customer_id  y_customer_id\n",
       "0  9057108040646743      93.421400      61.396596\n",
       "1  3373084462462294      94.737059      73.085581\n",
       "2  9620005159501228      59.102690      65.917647\n",
       "3  8355681376485783      38.033518      14.780868\n",
       "4  6300457835724066       4.680635      97.073144"
      ]
     },
     "execution_count": 90,
     "metadata": {},
     "output_type": "execute_result"
    }
   ],
   "source": [
    "sql_select = f\"\"\"\n",
    "SELECT \n",
    "  *\n",
    "FROM\n",
    "  `{SOURCE_PROJECT}.{SOURCE_DATASET}.customers`\n",
    "LIMIT 1000\n",
    "\"\"\"\n",
    "\n",
    "df = bq_query(sql = sql_select)\n",
    "\n",
    "df.head()"
   ]
  },
  {
   "cell_type": "code",
   "execution_count": 91,
   "metadata": {},
   "outputs": [
    {
     "data": {
      "text/html": [
       "<div>\n",
       "<style scoped>\n",
       "    .dataframe tbody tr th:only-of-type {\n",
       "        vertical-align: middle;\n",
       "    }\n",
       "\n",
       "    .dataframe tbody tr th {\n",
       "        vertical-align: top;\n",
       "    }\n",
       "\n",
       "    .dataframe thead th {\n",
       "        text-align: right;\n",
       "    }\n",
       "</style>\n",
       "<table border=\"1\" class=\"dataframe\">\n",
       "  <thead>\n",
       "    <tr style=\"text-align: right;\">\n",
       "      <th></th>\n",
       "      <th>TERMINAL_ID</th>\n",
       "      <th>x_terminal_id</th>\n",
       "      <th>y_terminal__id</th>\n",
       "    </tr>\n",
       "  </thead>\n",
       "  <tbody>\n",
       "    <tr>\n",
       "      <th>0</th>\n",
       "      <td>62052767</td>\n",
       "      <td>98.837384</td>\n",
       "      <td>10.204481</td>\n",
       "    </tr>\n",
       "    <tr>\n",
       "      <th>1</th>\n",
       "      <td>75282545</td>\n",
       "      <td>97.645947</td>\n",
       "      <td>46.865120</td>\n",
       "    </tr>\n",
       "    <tr>\n",
       "      <th>2</th>\n",
       "      <td>34460151</td>\n",
       "      <td>95.608363</td>\n",
       "      <td>64.399020</td>\n",
       "    </tr>\n",
       "    <tr>\n",
       "      <th>3</th>\n",
       "      <td>23509032</td>\n",
       "      <td>66.017354</td>\n",
       "      <td>29.007761</td>\n",
       "    </tr>\n",
       "    <tr>\n",
       "      <th>4</th>\n",
       "      <td>74438020</td>\n",
       "      <td>22.741463</td>\n",
       "      <td>25.435648</td>\n",
       "    </tr>\n",
       "  </tbody>\n",
       "</table>\n",
       "</div>"
      ],
      "text/plain": [
       "  TERMINAL_ID  x_terminal_id  y_terminal__id\n",
       "0    62052767      98.837384       10.204481\n",
       "1    75282545      97.645947       46.865120\n",
       "2    34460151      95.608363       64.399020\n",
       "3    23509032      66.017354       29.007761\n",
       "4    74438020      22.741463       25.435648"
      ]
     },
     "execution_count": 91,
     "metadata": {},
     "output_type": "execute_result"
    }
   ],
   "source": [
    "sql_select = f\"\"\"\n",
    "SELECT \n",
    "  *\n",
    "FROM\n",
    "  `{SOURCE_PROJECT}.{SOURCE_DATASET}.terminals`\n",
    "LIMIT 1000\n",
    "\"\"\"\n",
    "\n",
    "df = bq_query(sql = sql_select)\n",
    "\n",
    "df.head()"
   ]
  },
  {
   "cell_type": "code",
   "execution_count": 92,
   "metadata": {},
   "outputs": [
    {
     "data": {
      "text/html": [
       "<div>\n",
       "<style scoped>\n",
       "    .dataframe tbody tr th:only-of-type {\n",
       "        vertical-align: middle;\n",
       "    }\n",
       "\n",
       "    .dataframe tbody tr th {\n",
       "        vertical-align: top;\n",
       "    }\n",
       "\n",
       "    .dataframe thead th {\n",
       "        text-align: right;\n",
       "    }\n",
       "</style>\n",
       "<table border=\"1\" class=\"dataframe\">\n",
       "  <thead>\n",
       "    <tr style=\"text-align: right;\">\n",
       "      <th></th>\n",
       "      <th>TX_ID</th>\n",
       "      <th>TX_TS</th>\n",
       "      <th>CUSTOMER_ID</th>\n",
       "      <th>TERMINAL_ID</th>\n",
       "      <th>TX_AMOUNT</th>\n",
       "      <th>TX_FRAUD</th>\n",
       "    </tr>\n",
       "  </thead>\n",
       "  <tbody>\n",
       "    <tr>\n",
       "      <th>0</th>\n",
       "      <td>2ea24fa7d76367a607fc9eb3bc66f88ee6200efb</td>\n",
       "      <td>2021-07-22 07:48:17+00:00</td>\n",
       "      <td>0069305148726523</td>\n",
       "      <td>83736813</td>\n",
       "      <td>24.790000000</td>\n",
       "      <td>0</td>\n",
       "    </tr>\n",
       "    <tr>\n",
       "      <th>1</th>\n",
       "      <td>3568bf1bb3fe878072de43d79ba407b1b49711b3</td>\n",
       "      <td>2021-09-25 06:01:58+00:00</td>\n",
       "      <td>7705523422228805</td>\n",
       "      <td>78424763</td>\n",
       "      <td>16.930000000</td>\n",
       "      <td>0</td>\n",
       "    </tr>\n",
       "    <tr>\n",
       "      <th>2</th>\n",
       "      <td>90d3f5b92c5f47719ed54f4dc7c721145b8330ee</td>\n",
       "      <td>2021-06-16 22:44:09+00:00</td>\n",
       "      <td>8017346034222291</td>\n",
       "      <td>49248924</td>\n",
       "      <td>2.390000000</td>\n",
       "      <td>0</td>\n",
       "    </tr>\n",
       "    <tr>\n",
       "      <th>3</th>\n",
       "      <td>9ecb2a4efcbaa071e808f95c08316fec81201399</td>\n",
       "      <td>2021-06-16 02:45:28+00:00</td>\n",
       "      <td>5970038028469253</td>\n",
       "      <td>98759254</td>\n",
       "      <td>98.960000000</td>\n",
       "      <td>0</td>\n",
       "    </tr>\n",
       "    <tr>\n",
       "      <th>4</th>\n",
       "      <td>7d8fcaa1cd37ed797234d518a2f43a1521809197</td>\n",
       "      <td>2021-11-25 22:56:37+00:00</td>\n",
       "      <td>0986923313045181</td>\n",
       "      <td>02479938</td>\n",
       "      <td>45.930000000</td>\n",
       "      <td>0</td>\n",
       "    </tr>\n",
       "  </tbody>\n",
       "</table>\n",
       "</div>"
      ],
      "text/plain": [
       "                                      TX_ID                     TX_TS  \\\n",
       "0  2ea24fa7d76367a607fc9eb3bc66f88ee6200efb 2021-07-22 07:48:17+00:00   \n",
       "1  3568bf1bb3fe878072de43d79ba407b1b49711b3 2021-09-25 06:01:58+00:00   \n",
       "2  90d3f5b92c5f47719ed54f4dc7c721145b8330ee 2021-06-16 22:44:09+00:00   \n",
       "3  9ecb2a4efcbaa071e808f95c08316fec81201399 2021-06-16 02:45:28+00:00   \n",
       "4  7d8fcaa1cd37ed797234d518a2f43a1521809197 2021-11-25 22:56:37+00:00   \n",
       "\n",
       "        CUSTOMER_ID TERMINAL_ID     TX_AMOUNT  TX_FRAUD  \n",
       "0  0069305148726523    83736813  24.790000000         0  \n",
       "1  7705523422228805    78424763  16.930000000         0  \n",
       "2  8017346034222291    49248924   2.390000000         0  \n",
       "3  5970038028469253    98759254  98.960000000         0  \n",
       "4  0986923313045181    02479938  45.930000000         0  "
      ]
     },
     "execution_count": 92,
     "metadata": {},
     "output_type": "execute_result"
    }
   ],
   "source": [
    "sql_select = f\"\"\"\n",
    "SELECT \n",
    "  *\n",
    "FROM\n",
    "  `{SOURCE_PROJECT}.{SOURCE_DATASET}.train`\n",
    "LIMIT 1000\n",
    "\"\"\"\n",
    "\n",
    "df = bq_query(sql = sql_select)\n",
    "\n",
    "df.head()"
   ]
  },
  {
   "cell_type": "code",
   "execution_count": 93,
   "metadata": {},
   "outputs": [
    {
     "data": {
      "text/html": [
       "<div>\n",
       "<style scoped>\n",
       "    .dataframe tbody tr th:only-of-type {\n",
       "        vertical-align: middle;\n",
       "    }\n",
       "\n",
       "    .dataframe tbody tr th {\n",
       "        vertical-align: top;\n",
       "    }\n",
       "\n",
       "    .dataframe thead th {\n",
       "        text-align: right;\n",
       "    }\n",
       "</style>\n",
       "<table border=\"1\" class=\"dataframe\">\n",
       "  <thead>\n",
       "    <tr style=\"text-align: right;\">\n",
       "      <th></th>\n",
       "      <th>TX_ID</th>\n",
       "      <th>TX_TS</th>\n",
       "      <th>CUSTOMER_ID</th>\n",
       "      <th>TERMINAL_ID</th>\n",
       "      <th>TX_AMOUNT</th>\n",
       "    </tr>\n",
       "  </thead>\n",
       "  <tbody>\n",
       "    <tr>\n",
       "      <th>0</th>\n",
       "      <td>d803188ce5ec3354e9193cd0fa84b0b0ecb474f8</td>\n",
       "      <td>2021-12-06 16:17:46+00:00</td>\n",
       "      <td>0717942689361348</td>\n",
       "      <td>00064542</td>\n",
       "      <td>62.530000000</td>\n",
       "    </tr>\n",
       "    <tr>\n",
       "      <th>1</th>\n",
       "      <td>c4161477f903ee0077488cf2ed40a214747614f1</td>\n",
       "      <td>2021-12-02 10:25:57+00:00</td>\n",
       "      <td>4176271867313310</td>\n",
       "      <td>00064542</td>\n",
       "      <td>66.420000000</td>\n",
       "    </tr>\n",
       "    <tr>\n",
       "      <th>2</th>\n",
       "      <td>634a6a51d55166b6f89da33e6f25b5e3455d66fb</td>\n",
       "      <td>2021-12-06 18:04:15+00:00</td>\n",
       "      <td>5457708212804106</td>\n",
       "      <td>00064542</td>\n",
       "      <td>84.130000000</td>\n",
       "    </tr>\n",
       "    <tr>\n",
       "      <th>3</th>\n",
       "      <td>f36547436cc80382ac839b5844bfd256073b7278</td>\n",
       "      <td>2021-12-01 21:31:19+00:00</td>\n",
       "      <td>6834120891750859</td>\n",
       "      <td>00064542</td>\n",
       "      <td>41.760000000</td>\n",
       "    </tr>\n",
       "    <tr>\n",
       "      <th>4</th>\n",
       "      <td>63b7d5db2653b777f5501ad91273d87ab334ed75</td>\n",
       "      <td>2021-12-04 18:14:23+00:00</td>\n",
       "      <td>4388867881804879</td>\n",
       "      <td>00064542</td>\n",
       "      <td>49.200000000</td>\n",
       "    </tr>\n",
       "  </tbody>\n",
       "</table>\n",
       "</div>"
      ],
      "text/plain": [
       "                                      TX_ID                     TX_TS  \\\n",
       "0  d803188ce5ec3354e9193cd0fa84b0b0ecb474f8 2021-12-06 16:17:46+00:00   \n",
       "1  c4161477f903ee0077488cf2ed40a214747614f1 2021-12-02 10:25:57+00:00   \n",
       "2  634a6a51d55166b6f89da33e6f25b5e3455d66fb 2021-12-06 18:04:15+00:00   \n",
       "3  f36547436cc80382ac839b5844bfd256073b7278 2021-12-01 21:31:19+00:00   \n",
       "4  63b7d5db2653b777f5501ad91273d87ab334ed75 2021-12-04 18:14:23+00:00   \n",
       "\n",
       "        CUSTOMER_ID TERMINAL_ID     TX_AMOUNT  \n",
       "0  0717942689361348    00064542  62.530000000  \n",
       "1  4176271867313310    00064542  66.420000000  \n",
       "2  5457708212804106    00064542  84.130000000  \n",
       "3  6834120891750859    00064542  41.760000000  \n",
       "4  4388867881804879    00064542  49.200000000  "
      ]
     },
     "execution_count": 93,
     "metadata": {},
     "output_type": "execute_result"
    }
   ],
   "source": [
    "sql_select = f\"\"\"\n",
    "SELECT \n",
    "  *\n",
    "FROM\n",
    "  `{SOURCE_PROJECT}.{SOURCE_DATASET}.test`\n",
    "LIMIT 1000\n",
    "\"\"\"\n",
    "\n",
    "df = bq_query(sql = sql_select)\n",
    "\n",
    "df.head()"
   ]
  },
  {
   "cell_type": "markdown",
   "metadata": {},
   "source": [
    "#### Train a BigQuery ML model <a id=\"train\"></a>"
   ]
  },
  {
   "cell_type": "code",
   "execution_count": 94,
   "metadata": {
    "tags": []
   },
   "outputs": [
    {
     "data": {
      "text/plain": [
       "'Query sent asynchronously for job id: 094abec5-a003-434e-abd2-8982e9be7b32'"
      ]
     },
     "execution_count": 94,
     "metadata": {},
     "output_type": "execute_result"
    }
   ],
   "source": [
    "MODEL_NAME = \"fraud_detection\"\n",
    "\n",
    "sql_logreg_sample = f\"\"\"\n",
    "CREATE OR REPLACE MODEL\n",
    " `{PROJECT_ID}.{DATASET_ID}.{MODEL_NAME}`\n",
    "  OPTIONS(\n",
    "    MODEL_TYPE = 'LOGISTIC_REG',\n",
    "    INPUT_LABEL_COLS = ['TX_FRAUD'],\n",
    "    AUTO_CLASS_WEIGHTS = TRUE,\n",
    "    ENABLE_GLOBAL_EXPLAIN = TRUE\n",
    "  )\n",
    "AS\n",
    "SELECT\n",
    " TX_TS,\n",
    " CUSTOMER_ID,\n",
    " TERMINAL_ID,\n",
    " TX_AMOUNT,\n",
    " TX_FRAUD\n",
    "FROM\n",
    " `{SOURCE_PROJECT}.{SOURCE_DATASET}.train`\n",
    "\"\"\"\n",
    "\n",
    "# send asynchronously\n",
    "bq_query(sql = sql_logreg_sample, async_flag=True)"
   ]
  },
  {
   "cell_type": "markdown",
   "metadata": {},
   "source": [
    "Try experimenting with <A href=\"https://cloud.google.com/bigquery-ml/docs/reference/standard-sql/bigqueryml-syntax-create\">other model types</A> as well, such as:\n",
    " - [`logistic_reg`](https://cloud.google.com/bigquery-ml/docs/reference/standard-sql/bigqueryml-syntax-create)\n",
    " - [`boosted_tree_classifier`](https://cloud.google.com/bigquery-ml/docs/reference/standard-sql/bigqueryml-syntax-create-boosted-tree)\n",
    " - [`dnn_classifier`](https://cloud.google.com/bigquery-ml/docs/reference/standard-sql/bigqueryml-syntax-create-dnn-models)\n",
    " - BUT NOT AutoML Model types for this lab. Those give excellent results, but take much longer to train (several hours) - __too long for this workshop.__"
   ]
  },
  {
   "cell_type": "markdown",
   "metadata": {},
   "source": [
    "#### Check models currently being trained on BigQuery <a id=\"currentlytraining\"></a>"
   ]
  },
  {
   "cell_type": "markdown",
   "metadata": {},
   "source": [
    "This will check if the models in your project are still undergoing training."
   ]
  },
  {
   "cell_type": "code",
   "execution_count": 102,
   "metadata": {},
   "outputs": [
    {
     "name": "stdout",
     "output_type": "stream",
     "text": [
      "\n",
      "SELECT\n",
      "    job_id,\n",
      "    creation_time,\n",
      "    query,\n",
      "    REGEXP_EXTRACT(query, r'kaggle_team\\.\\w+') AS modelname\n",
      "FROM `region-us-central1`.INFORMATION_SCHEMA.JOBS_BY_USER\n",
      "WHERE \n",
      "    REGEXP_CONTAINS(LOWER(query), 'create (or replace ){0,1}model')\n",
      "    AND NOT REGEXP_CONTAINS(LOWER(query), 'information_schema')\n",
      "    AND state != \"DONE\"\n",
      "\n",
      "1 models still currently training:\n"
     ]
    },
    {
     "data": {
      "text/html": [
       "<div>\n",
       "<style scoped>\n",
       "    .dataframe tbody tr th:only-of-type {\n",
       "        vertical-align: middle;\n",
       "    }\n",
       "\n",
       "    .dataframe tbody tr th {\n",
       "        vertical-align: top;\n",
       "    }\n",
       "\n",
       "    .dataframe thead th {\n",
       "        text-align: right;\n",
       "    }\n",
       "</style>\n",
       "<table border=\"1\" class=\"dataframe\">\n",
       "  <thead>\n",
       "    <tr style=\"text-align: right;\">\n",
       "      <th></th>\n",
       "      <th>job_id</th>\n",
       "      <th>creation_time</th>\n",
       "      <th>query</th>\n",
       "      <th>modelname</th>\n",
       "    </tr>\n",
       "  </thead>\n",
       "  <tbody>\n",
       "    <tr>\n",
       "      <th>0</th>\n",
       "      <td>d26ea4e9-654f-45ed-a054-ac7507bb32aa</td>\n",
       "      <td>2022-06-20 18:52:45.101000+00:00</td>\n",
       "      <td>\\nCREATE OR REPLACE MODEL `euphoric-quanta-238417.kaggle_team.fraud_detection_transform`\\n  TRANSFORM (\\n    EXTRACT (hour from TX_TS) as hour,\\n     CUSTOMER_ID,\\n     TERMINAL_ID,\\n     TX_AMOUN...</td>\n",
       "      <td>kaggle_team.fraud_detection_transform</td>\n",
       "    </tr>\n",
       "  </tbody>\n",
       "</table>\n",
       "</div>"
      ],
      "text/plain": [
       "                                 job_id                    creation_time  \\\n",
       "0  d26ea4e9-654f-45ed-a054-ac7507bb32aa 2022-06-20 18:52:45.101000+00:00   \n",
       "\n",
       "                                                                                                                                                                                                     query  \\\n",
       "0  \\nCREATE OR REPLACE MODEL `euphoric-quanta-238417.kaggle_team.fraud_detection_transform`\\n  TRANSFORM (\\n    EXTRACT (hour from TX_TS) as hour,\\n     CUSTOMER_ID,\\n     TERMINAL_ID,\\n     TX_AMOUN...   \n",
       "\n",
       "                               modelname  \n",
       "0  kaggle_team.fraud_detection_transform  "
      ]
     },
     "execution_count": 102,
     "metadata": {},
     "output_type": "execute_result"
    }
   ],
   "source": [
    "sql_currentlyrunningqueries = f\"\"\"\n",
    "SELECT\n",
    "    job_id,\n",
    "    creation_time,\n",
    "    query,\n",
    "    REGEXP_EXTRACT(query, r'{DATASET_ID}\\.\\w+') AS modelname\n",
    "FROM `region-{LOCATION}`.INFORMATION_SCHEMA.JOBS_BY_USER\n",
    "WHERE \n",
    "    REGEXP_CONTAINS(LOWER(query), 'create (or replace ){{0,1}}model')\n",
    "    AND NOT REGEXP_CONTAINS(LOWER(query), 'information_schema')\n",
    "    AND state != \"DONE\"\n",
    "\"\"\"\n",
    "\n",
    "print(sql_currentlyrunningqueries)\n",
    "\n",
    "# send asynchronously\n",
    "models_still_training = bq_query(sql_currentlyrunningqueries)\n",
    "\n",
    "print(f\"{len(models_still_training)} models still currently training:\")\n",
    "models_still_training"
   ]
  },
  {
   "cell_type": "markdown",
   "metadata": {},
   "source": [
    "#### Check which models have finished training <a id=\"finishedtraining\"></a>"
   ]
  },
  {
   "cell_type": "code",
   "execution_count": 103,
   "metadata": {},
   "outputs": [
    {
     "name": "stdout",
     "output_type": "stream",
     "text": [
      "\n",
      "SELECT\n",
      "    job_id,\n",
      "    creation_time,\n",
      "    query,\n",
      "    REGEXP_EXTRACT(query, r'kaggle_team\\.\\w+') AS modelname\n",
      "FROM `region-us-central1`.INFORMATION_SCHEMA.JOBS_BY_USER\n",
      "WHERE \n",
      "    REGEXP_CONTAINS(LOWER(query), 'create (or replace ){0,1}model')\n",
      "    AND NOT REGEXP_CONTAINS(LOWER(query), 'information_schema')\n",
      "    AND state = \"DONE\"\n",
      "ORDER BY creation_time DESC\n",
      "\n"
     ]
    },
    {
     "data": {
      "text/html": [
       "<div>\n",
       "<style scoped>\n",
       "    .dataframe tbody tr th:only-of-type {\n",
       "        vertical-align: middle;\n",
       "    }\n",
       "\n",
       "    .dataframe tbody tr th {\n",
       "        vertical-align: top;\n",
       "    }\n",
       "\n",
       "    .dataframe thead th {\n",
       "        text-align: right;\n",
       "    }\n",
       "</style>\n",
       "<table border=\"1\" class=\"dataframe\">\n",
       "  <thead>\n",
       "    <tr style=\"text-align: right;\">\n",
       "      <th></th>\n",
       "      <th>job_id</th>\n",
       "      <th>creation_time</th>\n",
       "      <th>query</th>\n",
       "      <th>modelname</th>\n",
       "    </tr>\n",
       "  </thead>\n",
       "  <tbody>\n",
       "    <tr>\n",
       "      <th>0</th>\n",
       "      <td>d26ea4e9-654f-45ed-a054-ac7507bb32aa</td>\n",
       "      <td>2022-06-20 18:52:45.101000+00:00</td>\n",
       "      <td>\\nCREATE OR REPLACE MODEL `euphoric-quanta-238417.kaggle_team.fraud_detection_transform`\\n  TRANSFORM (\\n    EXTRACT (hour from TX_TS) as hour,\\n     CUSTOMER_ID,\\n     TERMINAL_ID,\\n     TX_AMOUN...</td>\n",
       "      <td>kaggle_team.fraud_detection_transform</td>\n",
       "    </tr>\n",
       "    <tr>\n",
       "      <th>1</th>\n",
       "      <td>094abec5-a003-434e-abd2-8982e9be7b32</td>\n",
       "      <td>2022-06-20 18:46:16.141000+00:00</td>\n",
       "      <td>\\nCREATE OR REPLACE MODEL\\n `euphoric-quanta-238417.kaggle_team.fraud_detection`\\n  OPTIONS(\\n    MODEL_TYPE = 'LOGISTIC_REG',\\n    INPUT_LABEL_COLS = ['TX_FRAUD'],\\n    AUTO_CLASS_WEIGHTS = TRUE,...</td>\n",
       "      <td>kaggle_team.fraud_detection</td>\n",
       "    </tr>\n",
       "    <tr>\n",
       "      <th>2</th>\n",
       "      <td>160627fe-b9d0-401e-a180-46ae3cae6c80</td>\n",
       "      <td>2022-06-18 18:12:24.805000+00:00</td>\n",
       "      <td>\\nCREATE OR REPLACE MODEL\\n `euphoric-quanta-238417.kaggle_team.fraud_detection`\\n  OPTIONS(\\n    MODEL_TYPE = 'LOGISTIC_REG',\\n    INPUT_LABEL_COLS = ['TX_FRAUD'],\\n    AUTO_CLASS_WEIGHTS = TRUE,...</td>\n",
       "      <td>kaggle_team.fraud_detection</td>\n",
       "    </tr>\n",
       "    <tr>\n",
       "      <th>3</th>\n",
       "      <td>2a75dd6d-48dd-4847-a55b-c60cf5a1a594</td>\n",
       "      <td>2022-06-16 03:50:55.448000+00:00</td>\n",
       "      <td>\\nCREATE OR REPLACE MODEL\\n `euphoric-quanta-238417.kaggle_student.fraud_detection`\\n  OPTIONS(\\n    MODEL_TYPE = 'LOGISTIC_REG',\\n    INPUT_LABEL_COLS = ['TX_FRAUD'],\\n    AUTO_CLASS_WEIGHTS = TR...</td>\n",
       "      <td>None</td>\n",
       "    </tr>\n",
       "    <tr>\n",
       "      <th>4</th>\n",
       "      <td>f77283ff-39bd-4285-a1a5-d10ab0ca5fca</td>\n",
       "      <td>2022-06-15 17:16:35.631000+00:00</td>\n",
       "      <td>\\nCREATE OR REPLACE MODEL\\n `euphoric-quanta-238417.kaggle_student.fraud_detection`\\n  OPTIONS(\\n    MODEL_TYPE = 'LOGISTIC_REG',\\n    INPUT_LABEL_COLS = ['TX_FRAUD'],\\n    AUTO_CLASS_WEIGHTS = TR...</td>\n",
       "      <td>None</td>\n",
       "    </tr>\n",
       "  </tbody>\n",
       "</table>\n",
       "</div>"
      ],
      "text/plain": [
       "                                 job_id                    creation_time  \\\n",
       "0  d26ea4e9-654f-45ed-a054-ac7507bb32aa 2022-06-20 18:52:45.101000+00:00   \n",
       "1  094abec5-a003-434e-abd2-8982e9be7b32 2022-06-20 18:46:16.141000+00:00   \n",
       "2  160627fe-b9d0-401e-a180-46ae3cae6c80 2022-06-18 18:12:24.805000+00:00   \n",
       "3  2a75dd6d-48dd-4847-a55b-c60cf5a1a594 2022-06-16 03:50:55.448000+00:00   \n",
       "4  f77283ff-39bd-4285-a1a5-d10ab0ca5fca 2022-06-15 17:16:35.631000+00:00   \n",
       "\n",
       "                                                                                                                                                                                                     query  \\\n",
       "0  \\nCREATE OR REPLACE MODEL `euphoric-quanta-238417.kaggle_team.fraud_detection_transform`\\n  TRANSFORM (\\n    EXTRACT (hour from TX_TS) as hour,\\n     CUSTOMER_ID,\\n     TERMINAL_ID,\\n     TX_AMOUN...   \n",
       "1  \\nCREATE OR REPLACE MODEL\\n `euphoric-quanta-238417.kaggle_team.fraud_detection`\\n  OPTIONS(\\n    MODEL_TYPE = 'LOGISTIC_REG',\\n    INPUT_LABEL_COLS = ['TX_FRAUD'],\\n    AUTO_CLASS_WEIGHTS = TRUE,...   \n",
       "2  \\nCREATE OR REPLACE MODEL\\n `euphoric-quanta-238417.kaggle_team.fraud_detection`\\n  OPTIONS(\\n    MODEL_TYPE = 'LOGISTIC_REG',\\n    INPUT_LABEL_COLS = ['TX_FRAUD'],\\n    AUTO_CLASS_WEIGHTS = TRUE,...   \n",
       "3  \\nCREATE OR REPLACE MODEL\\n `euphoric-quanta-238417.kaggle_student.fraud_detection`\\n  OPTIONS(\\n    MODEL_TYPE = 'LOGISTIC_REG',\\n    INPUT_LABEL_COLS = ['TX_FRAUD'],\\n    AUTO_CLASS_WEIGHTS = TR...   \n",
       "4  \\nCREATE OR REPLACE MODEL\\n `euphoric-quanta-238417.kaggle_student.fraud_detection`\\n  OPTIONS(\\n    MODEL_TYPE = 'LOGISTIC_REG',\\n    INPUT_LABEL_COLS = ['TX_FRAUD'],\\n    AUTO_CLASS_WEIGHTS = TR...   \n",
       "\n",
       "                               modelname  \n",
       "0  kaggle_team.fraud_detection_transform  \n",
       "1            kaggle_team.fraud_detection  \n",
       "2            kaggle_team.fraud_detection  \n",
       "3                                   None  \n",
       "4                                   None  "
      ]
     },
     "execution_count": 103,
     "metadata": {},
     "output_type": "execute_result"
    }
   ],
   "source": [
    "sql_finished_queries = f\"\"\"\n",
    "SELECT\n",
    "    job_id,\n",
    "    creation_time,\n",
    "    query,\n",
    "    REGEXP_EXTRACT(query, r'{DATASET_ID}\\.\\w+') AS modelname\n",
    "FROM `region-{LOCATION}`.INFORMATION_SCHEMA.JOBS_BY_USER\n",
    "WHERE \n",
    "    REGEXP_CONTAINS(LOWER(query), 'create (or replace ){{0,1}}model')\n",
    "    AND NOT REGEXP_CONTAINS(LOWER(query), 'information_schema')\n",
    "    AND state = \"DONE\"\n",
    "ORDER BY creation_time DESC\n",
    "\"\"\"\n",
    "\n",
    "print(sql_finished_queries)\n",
    "\n",
    "finished_models = bq_query(sql_finished_queries)\n",
    "finished_models.head()"
   ]
  },
  {
   "cell_type": "markdown",
   "metadata": {},
   "source": [
    "#### Evaluate a BigQuery ML model <a id=\"evaluate\"></a>"
   ]
  },
  {
   "cell_type": "code",
   "execution_count": 97,
   "metadata": {},
   "outputs": [
    {
     "name": "stdout",
     "output_type": "stream",
     "text": [
      "Evaluating Model: fraud_detection\n",
      "\n",
      "SELECT \n",
      "  *\n",
      "FROM\n",
      "  ML.EVALUATE(\n",
      "      MODEL kaggle_team.fraud_detection)\n",
      "\n"
     ]
    },
    {
     "data": {
      "text/html": [
       "<div>\n",
       "<style scoped>\n",
       "    .dataframe tbody tr th:only-of-type {\n",
       "        vertical-align: middle;\n",
       "    }\n",
       "\n",
       "    .dataframe tbody tr th {\n",
       "        vertical-align: top;\n",
       "    }\n",
       "\n",
       "    .dataframe thead th {\n",
       "        text-align: right;\n",
       "    }\n",
       "</style>\n",
       "<table border=\"1\" class=\"dataframe\">\n",
       "  <thead>\n",
       "    <tr style=\"text-align: right;\">\n",
       "      <th></th>\n",
       "      <th>precision</th>\n",
       "      <th>recall</th>\n",
       "      <th>accuracy</th>\n",
       "      <th>f1_score</th>\n",
       "      <th>log_loss</th>\n",
       "      <th>roc_auc</th>\n",
       "    </tr>\n",
       "  </thead>\n",
       "  <tbody>\n",
       "    <tr>\n",
       "      <th>0</th>\n",
       "      <td>0.249151</td>\n",
       "      <td>0.977778</td>\n",
       "      <td>0.93346</td>\n",
       "      <td>0.397112</td>\n",
       "      <td>0.159315</td>\n",
       "      <td>0.987379</td>\n",
       "    </tr>\n",
       "  </tbody>\n",
       "</table>\n",
       "</div>"
      ],
      "text/plain": [
       "   precision    recall  accuracy  f1_score  log_loss   roc_auc\n",
       "0   0.249151  0.977778   0.93346  0.397112  0.159315  0.987379"
      ]
     },
     "execution_count": 97,
     "metadata": {},
     "output_type": "execute_result"
    }
   ],
   "source": [
    "print(\"Evaluating Model: {}\".format(MODEL_NAME))\n",
    "sql_logreg_sample = f\"\"\"\n",
    "SELECT \n",
    "  *\n",
    "FROM\n",
    "  ML.EVALUATE(\n",
    "      MODEL {DATASET_ID}.{MODEL_NAME})\n",
    "\"\"\"\n",
    "\n",
    "print(sql_logreg_sample)\n",
    "\n",
    "bq_query(sql = sql_logreg_sample)"
   ]
  },
  {
   "cell_type": "markdown",
   "metadata": {},
   "source": [
    "### Compare multiple models <a id=\"compare\"></a>"
   ]
  },
  {
   "cell_type": "code",
   "execution_count": null,
   "metadata": {},
   "outputs": [],
   "source": [
    "MODEL_LIST = [\"fraud_detection\", \n",
    "              \"fraud_detection_transform\"] #change or add models here\n",
    "\n",
    "sql_modeleval_list = [f\"SELECT \\n  '{modelname}' as modelname, \\n  * \\nFROM \\n  ML.EVALUATE(MODEL {DATASET_ID}.{modelname})\"\n",
    "                      for modelname \n",
    "                      in MODEL_LIST]\n",
    "\n",
    "sql_compare_evaluation = \"\\n\\nUNION ALL\\n\\n\".join(sql_modeleval_list)\n",
    "\n",
    "print(sql_compare_evaluation)\n",
    "\n",
    "bq_query(sql_compare_evaluation)"
   ]
  },
  {
   "cell_type": "markdown",
   "metadata": {},
   "source": [
    "<a id=\"featinfo\"></a>"
   ]
  },
  {
   "cell_type": "markdown",
   "metadata": {},
   "source": [
    "### ML.FEATURE_INFO to check input feature information"
   ]
  },
  {
   "cell_type": "markdown",
   "metadata": {},
   "source": [
    "The ML.FEATURE_INFO function allows you to see information about the input features used to train a model. [ML.FEATURE_INFO Documentation](https://cloud.google.com/bigquery-ml/docs/reference/standard-sql/bigqueryml-syntax-feature)"
   ]
  },
  {
   "cell_type": "code",
   "execution_count": 98,
   "metadata": {},
   "outputs": [
    {
     "data": {
      "text/html": [
       "<div>\n",
       "<style scoped>\n",
       "    .dataframe tbody tr th:only-of-type {\n",
       "        vertical-align: middle;\n",
       "    }\n",
       "\n",
       "    .dataframe tbody tr th {\n",
       "        vertical-align: top;\n",
       "    }\n",
       "\n",
       "    .dataframe thead th {\n",
       "        text-align: right;\n",
       "    }\n",
       "</style>\n",
       "<table border=\"1\" class=\"dataframe\">\n",
       "  <thead>\n",
       "    <tr style=\"text-align: right;\">\n",
       "      <th></th>\n",
       "      <th>input</th>\n",
       "      <th>min</th>\n",
       "      <th>max</th>\n",
       "      <th>mean</th>\n",
       "      <th>median</th>\n",
       "      <th>stddev</th>\n",
       "      <th>category_count</th>\n",
       "      <th>null_count</th>\n",
       "      <th>dimension</th>\n",
       "    </tr>\n",
       "  </thead>\n",
       "  <tbody>\n",
       "    <tr>\n",
       "      <th>0</th>\n",
       "      <td>TX_TS</td>\n",
       "      <td>1.609459e+09</td>\n",
       "      <td>1.640996e+09</td>\n",
       "      <td>1.623886e+09</td>\n",
       "      <td>1.623901e+09</td>\n",
       "      <td>8.329633e+06</td>\n",
       "      <td>3192915</td>\n",
       "      <td>0</td>\n",
       "      <td>&lt;NA&gt;</td>\n",
       "    </tr>\n",
       "    <tr>\n",
       "      <th>1</th>\n",
       "      <td>CUSTOMER_ID</td>\n",
       "      <td>NaN</td>\n",
       "      <td>NaN</td>\n",
       "      <td>NaN</td>\n",
       "      <td>NaN</td>\n",
       "      <td>NaN</td>\n",
       "      <td>49664</td>\n",
       "      <td>0</td>\n",
       "      <td>&lt;NA&gt;</td>\n",
       "    </tr>\n",
       "    <tr>\n",
       "      <th>2</th>\n",
       "      <td>TERMINAL_ID</td>\n",
       "      <td>NaN</td>\n",
       "      <td>NaN</td>\n",
       "      <td>NaN</td>\n",
       "      <td>NaN</td>\n",
       "      <td>NaN</td>\n",
       "      <td>5000</td>\n",
       "      <td>0</td>\n",
       "      <td>&lt;NA&gt;</td>\n",
       "    </tr>\n",
       "    <tr>\n",
       "      <th>3</th>\n",
       "      <td>TX_AMOUNT</td>\n",
       "      <td>0.000000e+00</td>\n",
       "      <td>6.050700e+02</td>\n",
       "      <td>5.291142e+01</td>\n",
       "      <td>5.206000e+01</td>\n",
       "      <td>2.922117e+01</td>\n",
       "      <td>&lt;NA&gt;</td>\n",
       "      <td>0</td>\n",
       "      <td>&lt;NA&gt;</td>\n",
       "    </tr>\n",
       "  </tbody>\n",
       "</table>\n",
       "</div>"
      ],
      "text/plain": [
       "         input           min           max          mean        median  \\\n",
       "0        TX_TS  1.609459e+09  1.640996e+09  1.623886e+09  1.623901e+09   \n",
       "1  CUSTOMER_ID           NaN           NaN           NaN           NaN   \n",
       "2  TERMINAL_ID           NaN           NaN           NaN           NaN   \n",
       "3    TX_AMOUNT  0.000000e+00  6.050700e+02  5.291142e+01  5.206000e+01   \n",
       "\n",
       "         stddev  category_count  null_count  dimension  \n",
       "0  8.329633e+06         3192915           0       <NA>  \n",
       "1           NaN           49664           0       <NA>  \n",
       "2           NaN            5000           0       <NA>  \n",
       "3  2.922117e+01            <NA>           0       <NA>  "
      ]
     },
     "execution_count": 98,
     "metadata": {},
     "output_type": "execute_result"
    }
   ],
   "source": [
    "sql_featureinfo = f\"\"\"\n",
    "SELECT\n",
    "    *\n",
    "FROM\n",
    "    ML.FEATURE_INFO(MODEL {DATASET_ID}.{MODEL_NAME})\n",
    "\"\"\"\n",
    "\n",
    "bq_query(sql_featureinfo)"
   ]
  },
  {
   "cell_type": "markdown",
   "metadata": {},
   "source": [
    "<a id=\"predictions\"></a>"
   ]
  },
  {
   "cell_type": "markdown",
   "metadata": {},
   "source": [
    "### Make predictions using BigQuery ML"
   ]
  },
  {
   "cell_type": "code",
   "execution_count": 99,
   "metadata": {},
   "outputs": [
    {
     "name": "stdout",
     "output_type": "stream",
     "text": [
      "\n",
      "SELECT\n",
      "  *\n",
      "FROM\n",
      "  ML.PREDICT(MODEL `euphoric-quanta-238417.kaggle_team.fraud_detection`,\n",
      "    (\n",
      "    SELECT\n",
      "      *\n",
      "    FROM\n",
      "      `kaggleworkshops.fraud_detection.test`\n",
      "    )\n",
      "  )\n",
      "\n"
     ]
    },
    {
     "data": {
      "text/html": [
       "<div>\n",
       "<style scoped>\n",
       "    .dataframe tbody tr th:only-of-type {\n",
       "        vertical-align: middle;\n",
       "    }\n",
       "\n",
       "    .dataframe tbody tr th {\n",
       "        vertical-align: top;\n",
       "    }\n",
       "\n",
       "    .dataframe thead th {\n",
       "        text-align: right;\n",
       "    }\n",
       "</style>\n",
       "<table border=\"1\" class=\"dataframe\">\n",
       "  <thead>\n",
       "    <tr style=\"text-align: right;\">\n",
       "      <th></th>\n",
       "      <th>predicted_TX_FRAUD</th>\n",
       "      <th>predicted_TX_FRAUD_probs</th>\n",
       "      <th>TX_ID</th>\n",
       "      <th>TX_TS</th>\n",
       "      <th>CUSTOMER_ID</th>\n",
       "      <th>TERMINAL_ID</th>\n",
       "      <th>TX_AMOUNT</th>\n",
       "    </tr>\n",
       "  </thead>\n",
       "  <tbody>\n",
       "    <tr>\n",
       "      <th>0</th>\n",
       "      <td>0</td>\n",
       "      <td>[{'label': 1, 'prob': 0.10071210889554656}, {'label': 0, 'prob': 0.8992878911044534}]</td>\n",
       "      <td>d803188ce5ec3354e9193cd0fa84b0b0ecb474f8</td>\n",
       "      <td>2021-12-06 16:17:46+00:00</td>\n",
       "      <td>0717942689361348</td>\n",
       "      <td>00064542</td>\n",
       "      <td>62.530000000</td>\n",
       "    </tr>\n",
       "    <tr>\n",
       "      <th>1</th>\n",
       "      <td>0</td>\n",
       "      <td>[{'label': 1, 'prob': 0.1566286389468031}, {'label': 0, 'prob': 0.8433713610531969}]</td>\n",
       "      <td>c4161477f903ee0077488cf2ed40a214747614f1</td>\n",
       "      <td>2021-12-02 10:25:57+00:00</td>\n",
       "      <td>4176271867313310</td>\n",
       "      <td>00064542</td>\n",
       "      <td>66.420000000</td>\n",
       "    </tr>\n",
       "    <tr>\n",
       "      <th>2</th>\n",
       "      <td>0</td>\n",
       "      <td>[{'label': 1, 'prob': 0.11056953803790275}, {'label': 0, 'prob': 0.8894304619620973}]</td>\n",
       "      <td>634a6a51d55166b6f89da33e6f25b5e3455d66fb</td>\n",
       "      <td>2021-12-06 18:04:15+00:00</td>\n",
       "      <td>5457708212804106</td>\n",
       "      <td>00064542</td>\n",
       "      <td>84.130000000</td>\n",
       "    </tr>\n",
       "    <tr>\n",
       "      <th>3</th>\n",
       "      <td>0</td>\n",
       "      <td>[{'label': 1, 'prob': 0.06325088782013324}, {'label': 0, 'prob': 0.9367491121798668}]</td>\n",
       "      <td>f36547436cc80382ac839b5844bfd256073b7278</td>\n",
       "      <td>2021-12-01 21:31:19+00:00</td>\n",
       "      <td>6834120891750859</td>\n",
       "      <td>00064542</td>\n",
       "      <td>41.760000000</td>\n",
       "    </tr>\n",
       "    <tr>\n",
       "      <th>4</th>\n",
       "      <td>0</td>\n",
       "      <td>[{'label': 1, 'prob': 0.06534000622627109}, {'label': 0, 'prob': 0.9346599937737289}]</td>\n",
       "      <td>63b7d5db2653b777f5501ad91273d87ab334ed75</td>\n",
       "      <td>2021-12-04 18:14:23+00:00</td>\n",
       "      <td>4388867881804879</td>\n",
       "      <td>00064542</td>\n",
       "      <td>49.200000000</td>\n",
       "    </tr>\n",
       "  </tbody>\n",
       "</table>\n",
       "</div>"
      ],
      "text/plain": [
       "   predicted_TX_FRAUD  \\\n",
       "0                   0   \n",
       "1                   0   \n",
       "2                   0   \n",
       "3                   0   \n",
       "4                   0   \n",
       "\n",
       "                                                                predicted_TX_FRAUD_probs  \\\n",
       "0  [{'label': 1, 'prob': 0.10071210889554656}, {'label': 0, 'prob': 0.8992878911044534}]   \n",
       "1   [{'label': 1, 'prob': 0.1566286389468031}, {'label': 0, 'prob': 0.8433713610531969}]   \n",
       "2  [{'label': 1, 'prob': 0.11056953803790275}, {'label': 0, 'prob': 0.8894304619620973}]   \n",
       "3  [{'label': 1, 'prob': 0.06325088782013324}, {'label': 0, 'prob': 0.9367491121798668}]   \n",
       "4  [{'label': 1, 'prob': 0.06534000622627109}, {'label': 0, 'prob': 0.9346599937737289}]   \n",
       "\n",
       "                                      TX_ID                     TX_TS  \\\n",
       "0  d803188ce5ec3354e9193cd0fa84b0b0ecb474f8 2021-12-06 16:17:46+00:00   \n",
       "1  c4161477f903ee0077488cf2ed40a214747614f1 2021-12-02 10:25:57+00:00   \n",
       "2  634a6a51d55166b6f89da33e6f25b5e3455d66fb 2021-12-06 18:04:15+00:00   \n",
       "3  f36547436cc80382ac839b5844bfd256073b7278 2021-12-01 21:31:19+00:00   \n",
       "4  63b7d5db2653b777f5501ad91273d87ab334ed75 2021-12-04 18:14:23+00:00   \n",
       "\n",
       "        CUSTOMER_ID TERMINAL_ID     TX_AMOUNT  \n",
       "0  0717942689361348    00064542  62.530000000  \n",
       "1  4176271867313310    00064542  66.420000000  \n",
       "2  5457708212804106    00064542  84.130000000  \n",
       "3  6834120891750859    00064542  41.760000000  \n",
       "4  4388867881804879    00064542  49.200000000  "
      ]
     },
     "execution_count": 99,
     "metadata": {},
     "output_type": "execute_result"
    }
   ],
   "source": [
    "sql_predict = f\"\"\"\n",
    "SELECT\n",
    "  *\n",
    "FROM\n",
    "  ML.PREDICT(MODEL `{PROJECT_ID}.{DATASET_ID}.{MODEL_NAME}`,\n",
    "    (\n",
    "    SELECT\n",
    "      *\n",
    "    FROM\n",
    "      `{SOURCE_PROJECT}.{SOURCE_DATASET}.test`\n",
    "    )\n",
    "  )\n",
    "\"\"\"\n",
    "\n",
    "print(sql_predict)\n",
    "\n",
    "predictions = bq_query(sql_predict)\n",
    "predictions.head()"
   ]
  },
  {
   "cell_type": "markdown",
   "metadata": {},
   "source": [
    "<a id=\"exportcsv\"></a>"
   ]
  },
  {
   "cell_type": "markdown",
   "metadata": {
    "tags": []
   },
   "source": [
    "#### Congratulations!\n",
    "\n",
    "You've now trained a basic model and made a batch prediction using BQML. But this is just the beginning. You have many more BQML tools at your disposal that you can use to optimize and improve your model accuracy and performance. This is where your imagination and ML intuition will be critical to best your fellow competitors. Below you'll find examples of just a few techniques you can incorporate. You may also want to use Feature Engineering to create new columns that will make your model more effective. If helpful, you can write out your data to new tables or datasets in your student project.\n",
    "\n",
    "Don't be afraid to Google (or Bing, whatever ;-) ) the BQML docs for more ideas and inspiration."
   ]
  },
  {
   "cell_type": "markdown",
   "metadata": {},
   "source": [
    "<hr><a id=\"feateng\"></a>"
   ]
  },
  {
   "cell_type": "markdown",
   "metadata": {},
   "source": [
    "## Preprocessing Functions in BigQuery ML\n",
    "\n",
    "Below are some examples of various transformations that you can apply using BQ SQL. You can apply these transformations using a SELECT statement before passing to your model, optionally storing them in a separate table first - but likely better is to incorporate them into a __TRANSFORM__ directly within the model definition itself. This avoids needing to replicate the transformation when you perform predictions, which is handy when working with distributed teams or over a period of time. Then when making predictons you can just pass in the data in it's original form and the model will perform the transformation for you during the prediction.\n",
    "\n",
    "Note that below examples are just to show you the syntax and how it works - they may not be all that useful as-is and may not be appropriate for this particular ML exercise."
   ]
  },
  {
   "cell_type": "markdown",
   "metadata": {},
   "source": [
    "#### TRANSFORM\n",
    "\n",
    "You can use [TRANSFORM()](https://cloud.google.com/bigquery-ml/docs/bigqueryml-transform) with any standard SQL function or any ML [preprocessing function](https://cloud.google.com/bigquery-ml/docs/reference/standard-sql/bigqueryml-preprocessing-functions).\n",
    "\n",
    "Here's an example of a simple TRANSFORM. The lower SELECT captures the columns from the raw data. These are captured by the TRANSFORM statement toward the top and passed into the model as the features."
   ]
  },
  {
   "cell_type": "code",
   "execution_count": 100,
   "metadata": {
    "tags": []
   },
   "outputs": [
    {
     "data": {
      "text/plain": [
       "'Query sent asynchronously for job id: d26ea4e9-654f-45ed-a054-ac7507bb32aa'"
      ]
     },
     "execution_count": 100,
     "metadata": {},
     "output_type": "execute_result"
    }
   ],
   "source": [
    "MODEL_NAME = \"fraud_detection_transform\"\n",
    "\n",
    "sql_logreg_sample = f\"\"\"\n",
    "CREATE OR REPLACE MODEL `{PROJECT_ID}.{DATASET_ID}.{MODEL_NAME}`\n",
    "  TRANSFORM (\n",
    "    EXTRACT (hour from TX_TS) as hour,\n",
    "     CUSTOMER_ID,\n",
    "     TERMINAL_ID,\n",
    "     TX_AMOUNT,\n",
    "     TX_FRAUD\n",
    "     )\n",
    "  OPTIONS(\n",
    "    MODEL_TYPE = 'dnn_classifier',\n",
    "    INPUT_LABEL_COLS = ['TX_FRAUD'],\n",
    "    AUTO_CLASS_WEIGHTS = TRUE,\n",
    "    ENABLE_GLOBAL_EXPLAIN = TRUE\n",
    "  )\n",
    "AS\n",
    "SELECT\n",
    "*\n",
    "FROM\n",
    " `{SOURCE_PROJECT}.{SOURCE_DATASET}.train`\n",
    "\"\"\"\n",
    "\n",
    "# send asynchronously\n",
    "bq_query(sql = sql_logreg_sample, async_flag=True)"
   ]
  },
  {
   "cell_type": "markdown",
   "metadata": {},
   "source": [
    "<a id=\"extractdates\"></a>"
   ]
  },
  {
   "cell_type": "markdown",
   "metadata": {},
   "source": [
    "#### EXTRACT: Extract dates and time"
   ]
  },
  {
   "cell_type": "markdown",
   "metadata": {},
   "source": [
    "[EXTRACT from DATE documentation](https://cloud.google.com/bigquery/docs/reference/standard-sql/date_functions#extract)  \n",
    "[EXTRACT from TIMESTAMP documentation](https://cloud.google.com/bigquery/docs/reference/standard-sql/timestamp_functions#extract)"
   ]
  },
  {
   "cell_type": "code",
   "execution_count": null,
   "metadata": {},
   "outputs": [],
   "source": [
    "sql_datetime = f\"\"\"\n",
    "    SELECT\n",
    "        TX_TS,\n",
    "        EXTRACT( year FROM TX_TS) AS year,\n",
    "        EXTRACT( month FROM TX_TS) AS month,\n",
    "        EXTRACT( dayofweek FROM TX_TS) AS dayofweek,\n",
    "        EXTRACT( day FROM TX_TS) AS day,\n",
    "    FROM\n",
    "        {SOURCE_PROJECT}.{SOURCE_DATASET}.train\n",
    "    LIMIT 10\n",
    "    \"\"\"\n",
    "\n",
    "bq_query(sql_datetime)"
   ]
  },
  {
   "cell_type": "markdown",
   "metadata": {},
   "source": [
    "#### ML.QUANTILE_BUCKETIZE: Bucketize your numeric feature into bins\n",
    "[ML.QUANTILE_BUCKETIZE Documentation](https://cloud.google.com/bigquery-ml/docs/reference/standard-sql/bigqueryml-preprocessing-functions#quantile_bucketize)"
   ]
  },
  {
   "cell_type": "code",
   "execution_count": null,
   "metadata": {},
   "outputs": [],
   "source": [
    "sql_bucketize = f\"\"\"\n",
    "SELECT \n",
    "    TX_AMOUNT,\n",
    "    ML.QUANTILE_BUCKETIZE(\n",
    "      TX_AMOUNT,\n",
    "      100 # number of buckets\n",
    "    ) OVER() AS bucket_tx_amount,\n",
    "FROM\n",
    "    {SOURCE_PROJECT}.{SOURCE_DATASET}.train\n",
    "LIMIT 10\n",
    "\"\"\"\n",
    "\n",
    "bq_query(sql_bucketize)"
   ]
  },
  {
   "cell_type": "markdown",
   "metadata": {},
   "source": [
    "<a id=\"polynomialexpand\"></a>"
   ]
  },
  {
   "cell_type": "markdown",
   "metadata": {},
   "source": [
    "#### ML.POLYNOMIAL_EXPAND: Combine numeric features"
   ]
  },
  {
   "cell_type": "markdown",
   "metadata": {},
   "source": [
    "[ML.POLYNOMIAL_EXPAND Documentation](https://cloud.google.com/bigquery-ml/docs/reference/standard-sql/bigqueryml-preprocessing-functions#mlpolynomial_expand)"
   ]
  },
  {
   "cell_type": "code",
   "execution_count": null,
   "metadata": {},
   "outputs": [],
   "source": [
    "sql_polynomialexpand = f\"\"\"\n",
    "SELECT\n",
    "    TX_AMOUNT,\n",
    "    int_rate,\n",
    "    ML.POLYNOMIAL_EXPAND(\n",
    "      STRUCT(loan_amnt, int_rate), \n",
    "      2\n",
    "    ) AS x\n",
    "FROM\n",
    "    {SOURCE_PROJECT}.{SOURCE_DATASET}.train\n",
    "LIMIT 3\n",
    "\"\"\"\n",
    "\n",
    "bq_query(sql_polynomialexpand)"
   ]
  },
  {
   "cell_type": "markdown",
   "metadata": {},
   "source": [
    "<a id=\"featurecross\"></a>"
   ]
  },
  {
   "cell_type": "markdown",
   "metadata": {},
   "source": [
    "#### ML.FEATURE_CROSS: Combine categorical features\n",
    "\n",
    "[ML.FEATURE_CROSS Documentation](https://cloud.google.com/bigquery-ml/docs/reference/standard-sql/bigqueryml-preprocessing-functions#mlfeature_cross)"
   ]
  },
  {
   "cell_type": "code",
   "execution_count": null,
   "metadata": {},
   "outputs": [],
   "source": [
    "sql_featurecross = f\"\"\"\n",
    "SELECT\n",
    "    grade,\n",
    "    sub_grade,\n",
    "    ML.FEATURE_CROSS(\n",
    "      STRUCT(grade, sub_grade), \n",
    "      2\n",
    "    ) AS x\n",
    "FROM\n",
    "    {SOURCE_PROJECT}.{SOURCE_DATASET}.train\n",
    "LIMIT 3\n",
    "\"\"\"\n",
    "\n",
    "bq_query(sql_featurecross)"
   ]
  },
  {
   "cell_type": "markdown",
   "metadata": {},
   "source": [
    "<a id=\"featselection\"></a>\n",
    "<hr>"
   ]
  },
  {
   "cell_type": "markdown",
   "metadata": {},
   "source": [
    "## Feature Selection"
   ]
  },
  {
   "cell_type": "markdown",
   "metadata": {},
   "source": [
    "<a id=\"featimportance\"></a>"
   ]
  },
  {
   "cell_type": "markdown",
   "metadata": {},
   "source": [
    "### ML.FEATURE_IMPORTANCE for Boosted Tree models"
   ]
  },
  {
   "cell_type": "markdown",
   "metadata": {},
   "source": [
    "_Note: This function is only available for Boosted Tree models (`boosted_tree_classifier` or `boosted_tree_regressor`)._\n",
    "\n",
    "The ML.FEATURE_IMPORTANCE function allows you to see feature importance score, which indicates how useful or valuable each feature was in the construction of the Boosted Tree model during training. [ML.FEATURE_IMPORTANCE Documentation](https://cloud.google.com/bigquery-ml/docs/reference/standard-sql/bigqueryml-syntax-importance#mlfeature_importance_function)"
   ]
  },
  {
   "cell_type": "code",
   "execution_count": null,
   "metadata": {},
   "outputs": [],
   "source": [
    "MODEL_NAME = \"MY_BOOSTED_TREE_MODEL_NAME\"\n",
    "\n",
    "sql_featureimportance = f\"\"\"\n",
    "SELECT\n",
    "    *\n",
    "FROM\n",
    "    ML.FEATURE_IMPORTANCE(MODEL {DATASET_ID}.{MODEL_NAME})\n",
    "\"\"\"\n",
    "\n",
    "bq_query(sql_featureimportance)"
   ]
  },
  {
   "cell_type": "markdown",
   "metadata": {
    "tags": []
   },
   "source": [
    "## Submit Your Results <a id=\"submit\"></a>"
   ]
  },
  {
   "cell_type": "markdown",
   "metadata": {},
   "source": [
    "Once you have a reasonble candidate model, you're ready to submit your predications to Kaggle for evaluation and scoring. Don't be shy! You can make up to 20 (!!) submissions and they all count. So feel completely free to iterate on this as much as you want to ~~destroy your competitors~~ encourage everyone to up their game!"
   ]
  },
  {
   "cell_type": "markdown",
   "metadata": {
    "tags": []
   },
   "source": [
    "### Export predictions for Kaggle as a CSV file"
   ]
  },
  {
   "cell_type": "code",
   "execution_count": null,
   "metadata": {
    "tags": []
   },
   "outputs": [],
   "source": [
    "# Make sure to set MODEL_NAME to the correct model name that you want to submit predictions for.\n",
    "MODEL_NAME = \"fraud_detection\"\n",
    "\n",
    "sql_predict = f\"\"\"\n",
    "SELECT\n",
    "  TX_ID,\n",
    "  probs.prob as TX_FRAUD\n",
    "FROM\n",
    "  ML.PREDICT(MODEL `{PROJECT_ID}.{DATASET_ID}.{MODEL_NAME}`,\n",
    "    (\n",
    "    SELECT\n",
    "      *\n",
    "    FROM\n",
    "      `{SOURCE_PROJECT}.{SOURCE_DATASET}.test`\n",
    "    )\n",
    "  ),\n",
    "  UNNEST (predicted_TX_FRAUD_probs) as probs\n",
    "  WHERE label = 1\n",
    "\"\"\"\n",
    "\n",
    "print(sql_predict)\n",
    "\n",
    "submission = bq_query(sql_predict)\n",
    "submission.head()\n",
    "#save as CSV\n",
    "submission.to_csv(f\"submission_{MODEL_NAME}.csv\", index=False)"
   ]
  },
  {
   "cell_type": "markdown",
   "metadata": {
    "tags": []
   },
   "source": [
    "The predictions are now saved to a CSV file. To download the file to your notebook server. Locate your file in the left-menu in JupyterLab, right-click on it and click \"Download\". You can now make a submission to the <A href=\"http://www.kaggle.com/c/cloudday2022\">Kaggle Competition</A> with the file."
   ]
  }
 ],
 "metadata": {
  "environment": {
   "kernel": "python3",
   "name": "common-cpu.m93",
   "type": "gcloud",
   "uri": "gcr.io/deeplearning-platform-release/base-cpu:m93"
  },
  "kernelspec": {
   "display_name": "Python 3",
   "language": "python",
   "name": "python3"
  },
  "language_info": {
   "codemirror_mode": {
    "name": "ipython",
    "version": 3
   },
   "file_extension": ".py",
   "mimetype": "text/x-python",
   "name": "python",
   "nbconvert_exporter": "python",
   "pygments_lexer": "ipython3",
   "version": "3.7.12"
  },
  "toc-autonumbering": false,
  "toc-showcode": false,
  "toc-showmarkdowntxt": false,
  "toc-showtags": false
 },
 "nbformat": 4,
 "nbformat_minor": 4
}
